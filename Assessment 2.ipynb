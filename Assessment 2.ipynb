{
 "cells": [
  {
   "cell_type": "code",
   "execution_count": 15,
   "id": "31ff2156",
   "metadata": {},
   "outputs": [],
   "source": [
    "from sklearn.linear_model import Ridge\n",
    "from sklearn.linear_model import Lasso\n",
    "from sklearn.preprocessing import MinMaxScaler\n",
    "from sklearn.model_selection import train_test_split\n",
    "from sklearn.metrics import mean_absolute_error\n",
    "from sklearn.metrics import r2_score\n",
    "from sklearn.metrics import mean_squared_error\n",
    "from sklearn.linear_model import LinearRegression\n",
    "import pandas as pd\n",
    "import numpy as np\n",
    "import seaborn as sns"
   ]
  },
  {
   "cell_type": "code",
   "execution_count": 4,
   "id": "b717b083",
   "metadata": {
    "scrolled": true
   },
   "outputs": [
    {
     "data": {
      "text/html": [
       "<div>\n",
       "<style scoped>\n",
       "    .dataframe tbody tr th:only-of-type {\n",
       "        vertical-align: middle;\n",
       "    }\n",
       "\n",
       "    .dataframe tbody tr th {\n",
       "        vertical-align: top;\n",
       "    }\n",
       "\n",
       "    .dataframe thead th {\n",
       "        text-align: right;\n",
       "    }\n",
       "</style>\n",
       "<table border=\"1\" class=\"dataframe\">\n",
       "  <thead>\n",
       "    <tr style=\"text-align: right;\">\n",
       "      <th></th>\n",
       "      <th>date</th>\n",
       "      <th>Appliances</th>\n",
       "      <th>lights</th>\n",
       "      <th>T1</th>\n",
       "      <th>RH_1</th>\n",
       "      <th>T2</th>\n",
       "      <th>RH_2</th>\n",
       "      <th>T3</th>\n",
       "      <th>RH_3</th>\n",
       "      <th>T4</th>\n",
       "      <th>...</th>\n",
       "      <th>T9</th>\n",
       "      <th>RH_9</th>\n",
       "      <th>T_out</th>\n",
       "      <th>Press_mm_hg</th>\n",
       "      <th>RH_out</th>\n",
       "      <th>Windspeed</th>\n",
       "      <th>Visibility</th>\n",
       "      <th>Tdewpoint</th>\n",
       "      <th>rv1</th>\n",
       "      <th>rv2</th>\n",
       "    </tr>\n",
       "  </thead>\n",
       "  <tbody>\n",
       "    <tr>\n",
       "      <th>0</th>\n",
       "      <td>2016-01-11 17:00:00</td>\n",
       "      <td>60</td>\n",
       "      <td>30</td>\n",
       "      <td>19.89</td>\n",
       "      <td>47.596667</td>\n",
       "      <td>19.2</td>\n",
       "      <td>44.790000</td>\n",
       "      <td>19.79</td>\n",
       "      <td>44.730000</td>\n",
       "      <td>19.000000</td>\n",
       "      <td>...</td>\n",
       "      <td>17.033333</td>\n",
       "      <td>45.53</td>\n",
       "      <td>6.600000</td>\n",
       "      <td>733.5</td>\n",
       "      <td>92.0</td>\n",
       "      <td>7.000000</td>\n",
       "      <td>63.000000</td>\n",
       "      <td>5.3</td>\n",
       "      <td>13.275433</td>\n",
       "      <td>13.275433</td>\n",
       "    </tr>\n",
       "    <tr>\n",
       "      <th>1</th>\n",
       "      <td>2016-01-11 17:10:00</td>\n",
       "      <td>60</td>\n",
       "      <td>30</td>\n",
       "      <td>19.89</td>\n",
       "      <td>46.693333</td>\n",
       "      <td>19.2</td>\n",
       "      <td>44.722500</td>\n",
       "      <td>19.79</td>\n",
       "      <td>44.790000</td>\n",
       "      <td>19.000000</td>\n",
       "      <td>...</td>\n",
       "      <td>17.066667</td>\n",
       "      <td>45.56</td>\n",
       "      <td>6.483333</td>\n",
       "      <td>733.6</td>\n",
       "      <td>92.0</td>\n",
       "      <td>6.666667</td>\n",
       "      <td>59.166667</td>\n",
       "      <td>5.2</td>\n",
       "      <td>18.606195</td>\n",
       "      <td>18.606195</td>\n",
       "    </tr>\n",
       "    <tr>\n",
       "      <th>2</th>\n",
       "      <td>2016-01-11 17:20:00</td>\n",
       "      <td>50</td>\n",
       "      <td>30</td>\n",
       "      <td>19.89</td>\n",
       "      <td>46.300000</td>\n",
       "      <td>19.2</td>\n",
       "      <td>44.626667</td>\n",
       "      <td>19.79</td>\n",
       "      <td>44.933333</td>\n",
       "      <td>18.926667</td>\n",
       "      <td>...</td>\n",
       "      <td>17.000000</td>\n",
       "      <td>45.50</td>\n",
       "      <td>6.366667</td>\n",
       "      <td>733.7</td>\n",
       "      <td>92.0</td>\n",
       "      <td>6.333333</td>\n",
       "      <td>55.333333</td>\n",
       "      <td>5.1</td>\n",
       "      <td>28.642668</td>\n",
       "      <td>28.642668</td>\n",
       "    </tr>\n",
       "    <tr>\n",
       "      <th>3</th>\n",
       "      <td>2016-01-11 17:30:00</td>\n",
       "      <td>50</td>\n",
       "      <td>40</td>\n",
       "      <td>19.89</td>\n",
       "      <td>46.066667</td>\n",
       "      <td>19.2</td>\n",
       "      <td>44.590000</td>\n",
       "      <td>19.79</td>\n",
       "      <td>45.000000</td>\n",
       "      <td>18.890000</td>\n",
       "      <td>...</td>\n",
       "      <td>17.000000</td>\n",
       "      <td>45.40</td>\n",
       "      <td>6.250000</td>\n",
       "      <td>733.8</td>\n",
       "      <td>92.0</td>\n",
       "      <td>6.000000</td>\n",
       "      <td>51.500000</td>\n",
       "      <td>5.0</td>\n",
       "      <td>45.410389</td>\n",
       "      <td>45.410389</td>\n",
       "    </tr>\n",
       "    <tr>\n",
       "      <th>4</th>\n",
       "      <td>2016-01-11 17:40:00</td>\n",
       "      <td>60</td>\n",
       "      <td>40</td>\n",
       "      <td>19.89</td>\n",
       "      <td>46.333333</td>\n",
       "      <td>19.2</td>\n",
       "      <td>44.530000</td>\n",
       "      <td>19.79</td>\n",
       "      <td>45.000000</td>\n",
       "      <td>18.890000</td>\n",
       "      <td>...</td>\n",
       "      <td>17.000000</td>\n",
       "      <td>45.40</td>\n",
       "      <td>6.133333</td>\n",
       "      <td>733.9</td>\n",
       "      <td>92.0</td>\n",
       "      <td>5.666667</td>\n",
       "      <td>47.666667</td>\n",
       "      <td>4.9</td>\n",
       "      <td>10.084097</td>\n",
       "      <td>10.084097</td>\n",
       "    </tr>\n",
       "  </tbody>\n",
       "</table>\n",
       "<p>5 rows × 29 columns</p>\n",
       "</div>"
      ],
      "text/plain": [
       "                  date  Appliances  lights     T1       RH_1    T2       RH_2  \\\n",
       "0  2016-01-11 17:00:00          60      30  19.89  47.596667  19.2  44.790000   \n",
       "1  2016-01-11 17:10:00          60      30  19.89  46.693333  19.2  44.722500   \n",
       "2  2016-01-11 17:20:00          50      30  19.89  46.300000  19.2  44.626667   \n",
       "3  2016-01-11 17:30:00          50      40  19.89  46.066667  19.2  44.590000   \n",
       "4  2016-01-11 17:40:00          60      40  19.89  46.333333  19.2  44.530000   \n",
       "\n",
       "      T3       RH_3         T4  ...         T9   RH_9     T_out  Press_mm_hg  \\\n",
       "0  19.79  44.730000  19.000000  ...  17.033333  45.53  6.600000        733.5   \n",
       "1  19.79  44.790000  19.000000  ...  17.066667  45.56  6.483333        733.6   \n",
       "2  19.79  44.933333  18.926667  ...  17.000000  45.50  6.366667        733.7   \n",
       "3  19.79  45.000000  18.890000  ...  17.000000  45.40  6.250000        733.8   \n",
       "4  19.79  45.000000  18.890000  ...  17.000000  45.40  6.133333        733.9   \n",
       "\n",
       "   RH_out  Windspeed  Visibility  Tdewpoint        rv1        rv2  \n",
       "0    92.0   7.000000   63.000000        5.3  13.275433  13.275433  \n",
       "1    92.0   6.666667   59.166667        5.2  18.606195  18.606195  \n",
       "2    92.0   6.333333   55.333333        5.1  28.642668  28.642668  \n",
       "3    92.0   6.000000   51.500000        5.0  45.410389  45.410389  \n",
       "4    92.0   5.666667   47.666667        4.9  10.084097  10.084097  \n",
       "\n",
       "[5 rows x 29 columns]"
      ]
     },
     "execution_count": 4,
     "metadata": {},
     "output_type": "execute_result"
    }
   ],
   "source": [
    "data = pd.read_csv(r'C:\\Users\\DELL\\Downloads\\energydata_complete.csv')\n",
    "data.head()"
   ]
  },
  {
   "cell_type": "markdown",
   "id": "e1f5121c",
   "metadata": {},
   "source": [
    "QUESTION 17"
   ]
  },
  {
   "cell_type": "code",
   "execution_count": 22,
   "id": "5f878f2d",
   "metadata": {},
   "outputs": [
    {
     "name": "stdout",
     "output_type": "stream",
     "text": [
      "Root Mean Squared Error: 3.612\n"
     ]
    }
   ],
   "source": [
    "features = data['T2']\n",
    "target = data['T6']\n",
    "\n",
    "features = np.array(features).reshape(-1, 1)\n",
    "target = np.array(target).reshape(-1, 1)\n",
    "\n",
    "from sklearn.model_selection import train_test_split\n",
    "x_train, x_test, y_train, y_test = train_test_split(features, target, test_size=0.3, random_state=1)\n",
    "\n",
    "x_train = np.array(x_train).reshape(-1, 1)\n",
    "y_train = np.array(y_train).reshape(-1, 1)\n",
    "\n",
    "linear_model = LinearRegression()\n",
    "\n",
    "linear_model.fit(x_train, y_train)\n",
    "\n",
    "#obtain predictions\n",
    "y_pred = linear_model.predict(x_test)\n",
    "\n",
    "# Calculate the RMSE\n",
    "rmse = np.sqrt(mean_squared_error(y_test, y_pred))\n",
    "\n",
    "# Print the RMSE rounded to three decimal places\n",
    "print(f\"Root Mean Squared Error: {rmse:.3f}\")"
   ]
  },
  {
   "cell_type": "markdown",
   "id": "f5019de9",
   "metadata": {},
   "source": [
    "QUESTION 18"
   ]
  },
  {
   "cell_type": "code",
   "execution_count": 24,
   "id": "6e259c0a",
   "metadata": {},
   "outputs": [
    {
     "name": "stdout",
     "output_type": "stream",
     "text": [
      "Mean Absolute Error (Training Set): 53.741\n"
     ]
    }
   ],
   "source": [
    "# Remove the specified columns from the DataFrame\n",
    "columns_to_drop = [\"date\", \"lights\"]\n",
    "df = data.drop(columns_to_drop, axis=1)\n",
    "\n",
    "# Define the target variable\n",
    "target = \"Appliances\"\n",
    "\n",
    "# Separate the input features and the target variable\n",
    "x = df.drop(target, axis=1)\n",
    "y = df[target]\n",
    "\n",
    "# Perform a train-test split with a random state of 42\n",
    "X_train, X_test, y_train, y_test = train_test_split(x, y, test_size=0.3, random_state=42)\n",
    "\n",
    "# Normalize the dataset using MinMaxScaler\n",
    "scaler = MinMaxScaler()\n",
    "X_train_scaled = scaler.fit_transform(X_train)\n",
    "X_test_scaled = scaler.transform(X_test)\n",
    "\n",
    "# Create and train the linear regression model\n",
    "linear_model = LinearRegression()\n",
    "linear_model.fit(X_train_scaled, y_train)\n",
    "\n",
    "# Make predictions on the training set\n",
    "train_predictions = linear_model.predict(X_train_scaled)\n",
    "\n",
    "# Calculate the Mean Absolute Error for the training set\n",
    "mae_train = mean_absolute_error(y_train, train_predictions)\n",
    "\n",
    "# Print the Mean Absolute Error for the training set\n",
    "print(f\"Mean Absolute Error (Training Set): {mae_train:.3f}\")"
   ]
  },
  {
   "cell_type": "markdown",
   "id": "b9622fea",
   "metadata": {},
   "source": [
    "QUESTION 19"
   ]
  },
  {
   "cell_type": "code",
   "execution_count": 25,
   "id": "e4d5a1c8",
   "metadata": {},
   "outputs": [
    {
     "name": "stdout",
     "output_type": "stream",
     "text": [
      "Root Mean Squared Error (Training Set): 95.216\n"
     ]
    }
   ],
   "source": [
    "# Calculate the Root Mean Squared Error for the training set\n",
    "rmse_train = mean_squared_error(y_train, train_predictions, squared=False)\n",
    "\n",
    "# Print the Root Mean Squared Error for the training set\n",
    "print(f\"Root Mean Squared Error (Training Set): {rmse_train:.3f}\")"
   ]
  },
  {
   "cell_type": "markdown",
   "id": "fa1e14aa",
   "metadata": {},
   "source": [
    "QUESTION 20"
   ]
  },
  {
   "cell_type": "code",
   "execution_count": 27,
   "id": "9a2f0131",
   "metadata": {},
   "outputs": [
    {
     "name": "stdout",
     "output_type": "stream",
     "text": [
      "Mean Absolute Error (Test Set): 53.641\n"
     ]
    }
   ],
   "source": [
    "# Make predictions on the test set\n",
    "test_predictions = linear_model.predict(X_test_scaled)\n",
    "\n",
    "# Calculate the Mean Absolute Error for the test set\n",
    "mae_test = mean_absolute_error(y_test, test_predictions)\n",
    "\n",
    "# Print the Mean Absolute Error for the test set\n",
    "print(f\"Mean Absolute Error (Test Set): {mae_test:.3f}\")"
   ]
  },
  {
   "cell_type": "markdown",
   "id": "bf8334b8",
   "metadata": {},
   "source": [
    "QUESTION 21"
   ]
  },
  {
   "cell_type": "code",
   "execution_count": 28,
   "id": "0d884e0a",
   "metadata": {},
   "outputs": [
    {
     "name": "stdout",
     "output_type": "stream",
     "text": [
      "Root Mean Squared Error (Test Set): 93.637\n"
     ]
    }
   ],
   "source": [
    "# Calculate the Root Mean Squared Error for the test set\n",
    "rmse_test = mean_squared_error(y_test, test_predictions, squared=False)\n",
    "\n",
    "# Print the Root Mean Squared Error for the test set\n",
    "print(f\"Root Mean Squared Error (Test Set): {rmse_test:.3f}\")"
   ]
  },
  {
   "cell_type": "markdown",
   "id": "835f33c8",
   "metadata": {},
   "source": [
    "QUESTION 23"
   ]
  },
  {
   "cell_type": "code",
   "execution_count": 29,
   "id": "87565e31",
   "metadata": {},
   "outputs": [
    {
     "name": "stdout",
     "output_type": "stream",
     "text": [
      "Root Mean Squared Error (Test Set): 93.709\n"
     ]
    }
   ],
   "source": [
    "# Create and train the Ridge regression model with default parameters\n",
    "ridge_model = Ridge()\n",
    "ridge_model.fit(X_train_scaled, y_train)\n",
    "\n",
    "# Make predictions on the test set\n",
    "test_predictions = ridge_model.predict(X_test_scaled)\n",
    "\n",
    "# Calculate the RMSE for the test set\n",
    "rmse_test = mean_squared_error(y_test, test_predictions, squared=False)\n",
    "\n",
    "# Print the RMSE for the test set\n",
    "print(f\"Root Mean Squared Error (Test Set): {rmse_test:.3f}\")"
   ]
  },
  {
   "cell_type": "markdown",
   "id": "32db35b8",
   "metadata": {},
   "source": [
    "QUESTION 24"
   ]
  },
  {
   "cell_type": "code",
   "execution_count": 31,
   "id": "8db210ca",
   "metadata": {},
   "outputs": [
    {
     "name": "stdout",
     "output_type": "stream",
     "text": [
      "Number of features with non-zero feature weights: 4\n"
     ]
    }
   ],
   "source": [
    "# Create and train the Lasso regression model with default parameters\n",
    "lasso_model = Lasso()\n",
    "lasso_model.fit(X_train_scaled, y_train)\n",
    "\n",
    "# Obtain the feature weights from the Lasso model\n",
    "feature_weights = lasso_model.coef_\n",
    "\n",
    "# Count the number of features with non-zero feature weights\n",
    "non_zero_features = sum(feature_weights != 0)\n",
    "\n",
    "# Print the number of features with non-zero feature weights\n",
    "print(f\"Number of features with non-zero feature weights: {non_zero_features}\")"
   ]
  },
  {
   "cell_type": "markdown",
   "id": "0f4d7e95",
   "metadata": {},
   "source": [
    "QUESTION 25"
   ]
  },
  {
   "cell_type": "code",
   "execution_count": 32,
   "id": "9c817b7e",
   "metadata": {},
   "outputs": [
    {
     "name": "stdout",
     "output_type": "stream",
     "text": [
      "Root Mean Squared Error (Test Set): 99.424\n"
     ]
    }
   ],
   "source": [
    "# Make predictions on the test set\n",
    "test_predictions = lasso_model.predict(X_test_scaled)\n",
    "\n",
    "# Calculate the RMSE for the test set\n",
    "rmse_test = mean_squared_error(y_test, test_predictions, squared=False)\n",
    "\n",
    "# Print the RMSE for the test set\n",
    "print(f\"Root Mean Squared Error (Test Set): {rmse_test:.3f}\")"
   ]
  }
 ],
 "metadata": {
  "kernelspec": {
   "display_name": "Python 3 (ipykernel)",
   "language": "python",
   "name": "python3"
  },
  "language_info": {
   "codemirror_mode": {
    "name": "ipython",
    "version": 3
   },
   "file_extension": ".py",
   "mimetype": "text/x-python",
   "name": "python",
   "nbconvert_exporter": "python",
   "pygments_lexer": "ipython3",
   "version": "3.9.13"
  }
 },
 "nbformat": 4,
 "nbformat_minor": 5
}
